{
  "nbformat": 4,
  "nbformat_minor": 0,
  "metadata": {
    "colab": {
      "provenance": [],
      "toc_visible": true
    },
    "kernelspec": {
      "name": "python3",
      "display_name": "Python 3"
    },
    "language_info": {
      "name": "python"
    }
  },
  "cells": [
    {
      "cell_type": "code",
      "execution_count": null,
      "metadata": {
        "id": "O8d_5JxZHg1v"
      },
      "outputs": [],
      "source": [
        "import json\n",
        "from matplotlib import pyplot as plt\n",
        "from collections import defaultdict\n",
        "from sklearn import linear_model\n",
        "import numpy as np\n",
        "import random\n",
        "import gzip\n",
        "import math\n",
        "# !pip install urllib\n",
        "# from urllib import urlopen\n"
      ]
    },
    {
      "cell_type": "code",
      "source": [
        "def assertFloat(x): # Checks that an answer is a float\n",
        "    assert type(float(x)) == float\n",
        "\n",
        "def assertFloatList(items, N):\n",
        "    assert len(items) == N\n",
        "    assert [type(float(x)) for x in items] == [float]*N"
      ],
      "metadata": {
        "id": "CkHiNTLJHxqC"
      },
      "execution_count": null,
      "outputs": []
    },
    {
      "cell_type": "markdown",
      "source": [
        "#Regression"
      ],
      "metadata": {
        "id": "a5VXZ5uOBa35"
      }
    },
    {
      "cell_type": "markdown",
      "source": [
        "## Q1"
      ],
      "metadata": {
        "id": "YzrVpWx2Bfq8"
      }
    },
    {
      "cell_type": "code",
      "source": [
        "f = gzip.open(\"young_adult_10000.json.gz\")\n",
        "dataset = []\n",
        "for l in f:\n",
        "    dataset.append(json.loads(l))"
      ],
      "metadata": {
        "id": "sryMHVPtH1X3"
      },
      "execution_count": null,
      "outputs": []
    },
    {
      "cell_type": "code",
      "source": [
        "dataset[0]\n"
      ],
      "metadata": {
        "colab": {
          "base_uri": "https://localhost:8080/"
        },
        "id": "-mg20HuwH7pF",
        "outputId": "baa4def6-b75a-47de-d23e-d9cc8524ebf0"
      },
      "execution_count": null,
      "outputs": [
        {
          "output_type": "execute_result",
          "data": {
            "text/plain": [
              "{'user_id': '8842281e1d1347389f2ab93d60773d4d',\n",
              " 'book_id': '2767052',\n",
              " 'review_id': '248c011811e945eca861b5c31a549291',\n",
              " 'rating': 5,\n",
              " 'review_text': \"I cracked and finally picked this up. Very enjoyable quick read - couldn't put it down - it was like crack. \\n I'm a bit bothered by the lack of backstory of how Panem and the Hunger Games come about. It is just kind of explained away in a few paragraphs and we are left to accept this very strange world where teenagers are pitted into an arena each year to kill each other? I was expecting it because I've seen Battle Royale, but I would have appreciated knowing more of the backstory of how the world could have come into such a odd state. \\n I suppose what makes a book like this interesting is thinking about the strategy of it all. The players are going to be statistically encouraged to band together because they will last longer that way, but by definition of course any partnership will be broken, and the drama of how that unfolds is always interesting and full of friendships broken and betrayal. Each character approached the game in their own way. Some banded together in larger coalitions, some were loners initially and banded together later. And some were just loners, like Foxface. A lot depended on your survival skill: could you find food and water on your own? Self-dependence is highly valued - and of course our hero was strong there. \\n All in all, a fun read, but I feel kind of dirty for having read it.\",\n",
              " 'date_added': 'Wed Jan 13 13:38:25 -0800 2010',\n",
              " 'date_updated': 'Wed Mar 22 11:46:36 -0700 2017',\n",
              " 'read_at': 'Sun Mar 25 00:00:00 -0700 2012',\n",
              " 'started_at': 'Fri Mar 23 00:00:00 -0700 2012',\n",
              " 'n_votes': 24,\n",
              " 'n_comments': 25}"
            ]
          },
          "metadata": {},
          "execution_count": 178
        }
      ]
    },
    {
      "cell_type": "code",
      "source": [
        "print(dataset[i]['review_text'].count('!') for i in range(10))"
      ],
      "metadata": {
        "colab": {
          "base_uri": "https://localhost:8080/"
        },
        "id": "R_nTJMYDIlZ4",
        "outputId": "63db1dba-4976-4d9c-cfcc-fa0339341ac2"
      },
      "execution_count": null,
      "outputs": [
        {
          "output_type": "stream",
          "name": "stdout",
          "text": [
            "<generator object <genexpr> at 0x7ff8019a16d0>\n"
          ]
        }
      ]
    },
    {
      "cell_type": "code",
      "source": [
        "def feature(datum):\n",
        "  feat = [1]\n",
        "  #feat.append(datum['user/ageInSeconds'])\n",
        "  feat.append(datum['review_text'].count('!'))\n",
        "  return feat"
      ],
      "metadata": {
        "id": "vWWMwOLnC_PM"
      },
      "execution_count": null,
      "outputs": []
    },
    {
      "cell_type": "code",
      "source": [
        "# tmpArrExcl = []\n",
        "# tmpArrExcl = [[1]]*len(dataset)\n",
        "# for i in range(len(dataset)):\n",
        "#   tmpArrExcl[i].append(dataset[i]['review_text'].count('!'))\n",
        "tmpArrExcl = [feature(d) for d in dataset]"
      ],
      "metadata": {
        "id": "8HryQJBUIvMz"
      },
      "execution_count": null,
      "outputs": []
    },
    {
      "cell_type": "code",
      "source": [
        "tmpArrExcl[:10]"
      ],
      "metadata": {
        "id": "4tqSa_OpI_VK",
        "outputId": "cffa8d42-362b-4be1-80dc-0c6138bd9d74",
        "colab": {
          "base_uri": "https://localhost:8080/"
        }
      },
      "execution_count": null,
      "outputs": [
        {
          "output_type": "execute_result",
          "data": {
            "text/plain": [
              "[[1, 0],\n",
              " [1, 1],\n",
              " [1, 0],\n",
              " [1, 0],\n",
              " [1, 0],\n",
              " [1, 0],\n",
              " [1, 4],\n",
              " [1, 2],\n",
              " [1, 1],\n",
              " [1, 0]]"
            ]
          },
          "metadata": {},
          "execution_count": 182
        }
      ]
    },
    {
      "cell_type": "code",
      "source": [
        "ratings = []\n",
        "for i in range(len(dataset)):\n",
        "  ratings.append(dataset[i][\"rating\"])"
      ],
      "metadata": {
        "id": "Zq3n96h6JBJY"
      },
      "execution_count": null,
      "outputs": []
    },
    {
      "cell_type": "code",
      "source": [
        "ratings[:10]"
      ],
      "metadata": {
        "colab": {
          "base_uri": "https://localhost:8080/"
        },
        "id": "IP7eDWWSAtNv",
        "outputId": "c831a31b-8f64-40c1-a019-7227819d266d"
      },
      "execution_count": null,
      "outputs": [
        {
          "output_type": "execute_result",
          "data": {
            "text/plain": [
              "[5, 5, 4, 2, 5, 5, 5, 5, 5, 5]"
            ]
          },
          "metadata": {},
          "execution_count": 184
        }
      ]
    },
    {
      "cell_type": "code",
      "source": [
        "# tmpArrExcl = np.array(tmpArrExcl)\n",
        "# X = tmpArrExcl.reshape(-1,1)\n",
        "# X[:10]"
      ],
      "metadata": {
        "id": "PoDHeYVzA0Q8"
      },
      "execution_count": null,
      "outputs": []
    },
    {
      "cell_type": "code",
      "source": [
        "X = tmpArrExcl\n",
        "\n",
        "ratings = np.array(ratings)\n",
        "y = ratings.reshape(-1,1)\n",
        "y[:10]"
      ],
      "metadata": {
        "colab": {
          "base_uri": "https://localhost:8080/"
        },
        "id": "v9hKMkBEBGze",
        "outputId": "3a11a70f-31b5-4572-9563-01eb295007a8"
      },
      "execution_count": null,
      "outputs": [
        {
          "output_type": "execute_result",
          "data": {
            "text/plain": [
              "array([[5],\n",
              "       [5],\n",
              "       [4],\n",
              "       [2],\n",
              "       [5],\n",
              "       [5],\n",
              "       [5],\n",
              "       [5],\n",
              "       [5],\n",
              "       [5]])"
            ]
          },
          "metadata": {},
          "execution_count": 186
        }
      ]
    },
    {
      "cell_type": "code",
      "source": [
        "theta,residuals,rank,s = numpy.linalg.lstsq(X, y)"
      ],
      "metadata": {
        "colab": {
          "base_uri": "https://localhost:8080/"
        },
        "id": "yIhnGMtyBsUD",
        "outputId": "b447e3b0-8c9e-437d-ff9c-112d85f15384"
      },
      "execution_count": null,
      "outputs": [
        {
          "output_type": "stream",
          "name": "stderr",
          "text": [
            "/usr/local/lib/python3.7/dist-packages/ipykernel_launcher.py:1: FutureWarning: `rcond` parameter will change to the default of machine precision times ``max(M, N)`` where M and N are the input matrix dimensions.\n",
            "To use the future default and silence this warning we advise to pass `rcond=None`, to keep using the old, explicitly pass `rcond=-1`.\n",
            "  \"\"\"Entry point for launching an IPython kernel.\n"
          ]
        }
      ]
    },
    {
      "cell_type": "code",
      "source": [
        "print(theta)"
      ],
      "metadata": {
        "colab": {
          "base_uri": "https://localhost:8080/"
        },
        "id": "Jw5mJKJ7By9w",
        "outputId": "6dca447b-95e2-4e83-8822-b1fe848210e1"
      },
      "execution_count": null,
      "outputs": [
        {
          "output_type": "stream",
          "name": "stdout",
          "text": [
            "[[3.68853304]\n",
            " [0.07109019]]\n"
          ]
        }
      ]
    },
    {
      "cell_type": "code",
      "source": [
        "y_pred = np.dot(X, theta)\n",
        "\n",
        "MSE = ((y - y_pred)**2).mean()\n",
        "print(MSE)"
      ],
      "metadata": {
        "colab": {
          "base_uri": "https://localhost:8080/"
        },
        "id": "MVB80M_YvxRJ",
        "outputId": "c42d59a3-eb70-4d26-8522-f44688bde27b"
      },
      "execution_count": null,
      "outputs": [
        {
          "output_type": "stream",
          "name": "stdout",
          "text": [
            "1.5231747404538287\n"
          ]
        }
      ]
    },
    {
      "cell_type": "markdown",
      "source": [
        "## Q2"
      ],
      "metadata": {
        "id": "qmqGsoLrD7h_"
      }
    },
    {
      "cell_type": "code",
      "source": [
        "def feature(datum):\n",
        "  feat = [1]\n",
        "  feat.append(len(datum['review_text']))\n",
        "  \n",
        "  feat.append(datum['review_text'].count('!'))\n",
        "  return feat"
      ],
      "metadata": {
        "id": "vPCvzrl6Dcp8"
      },
      "execution_count": null,
      "outputs": []
    },
    {
      "cell_type": "code",
      "source": [
        "X = [feature(d) for d in dataset]"
      ],
      "metadata": {
        "id": "9UR5hBzUESvq"
      },
      "execution_count": null,
      "outputs": []
    },
    {
      "cell_type": "code",
      "source": [
        "X[:10]"
      ],
      "metadata": {
        "colab": {
          "base_uri": "https://localhost:8080/"
        },
        "id": "aB086L1XEZm2",
        "outputId": "9d092ffd-3e12-40d3-bdbc-912597adf419"
      },
      "execution_count": null,
      "outputs": [
        {
          "output_type": "execute_result",
          "data": {
            "text/plain": [
              "[[1, 1326, 0],\n",
              " [1, 224, 1],\n",
              " [1, 118, 0],\n",
              " [1, 1952, 0],\n",
              " [1, 554, 0],\n",
              " [1, 486, 0],\n",
              " [1, 257, 4],\n",
              " [1, 10, 2],\n",
              " [1, 31, 1],\n",
              " [1, 62, 0]]"
            ]
          },
          "metadata": {},
          "execution_count": 29
        }
      ]
    },
    {
      "cell_type": "code",
      "source": [
        "theta,residuals,rank,s = numpy.linalg.lstsq(X, y)"
      ],
      "metadata": {
        "colab": {
          "base_uri": "https://localhost:8080/"
        },
        "id": "Y-PqjawdEa31",
        "outputId": "33c55fee-f388-4c43-f7cc-8730c81d15d1"
      },
      "execution_count": null,
      "outputs": [
        {
          "output_type": "stream",
          "name": "stderr",
          "text": [
            "/usr/local/lib/python3.7/dist-packages/ipykernel_launcher.py:1: FutureWarning: `rcond` parameter will change to the default of machine precision times ``max(M, N)`` where M and N are the input matrix dimensions.\n",
            "To use the future default and silence this warning we advise to pass `rcond=None`, to keep using the old, explicitly pass `rcond=-1`.\n",
            "  \"\"\"Entry point for launching an IPython kernel.\n"
          ]
        }
      ]
    },
    {
      "cell_type": "code",
      "source": [
        "theta"
      ],
      "metadata": {
        "colab": {
          "base_uri": "https://localhost:8080/"
        },
        "id": "EBVhd1_0Ed89",
        "outputId": "06383e81-e88e-4d8d-a8bd-63da8df62e94"
      },
      "execution_count": null,
      "outputs": [
        {
          "output_type": "execute_result",
          "data": {
            "text/plain": [
              "array([[ 3.71751281e+00],\n",
              "       [-4.12150653e-05],\n",
              "       [ 7.52759173e-02]])"
            ]
          },
          "metadata": {},
          "execution_count": 31
        }
      ]
    },
    {
      "cell_type": "code",
      "source": [
        "y_pred = np.dot(X, theta)\n",
        "\n",
        "MSE = ((y - y_pred)**2).mean()\n",
        "print(MSE)"
      ],
      "metadata": {
        "colab": {
          "base_uri": "https://localhost:8080/"
        },
        "id": "kY7pgzkAEe0Q",
        "outputId": "330d0c4f-5077-4de3-d89d-5b1b8cbf2dce"
      },
      "execution_count": null,
      "outputs": [
        {
          "output_type": "stream",
          "name": "stdout",
          "text": [
            "1.5214029246165832\n"
          ]
        }
      ]
    },
    {
      "cell_type": "markdown",
      "source": [
        "## Q3"
      ],
      "metadata": {
        "id": "Eduf_lr_E_Xy"
      }
    },
    {
      "cell_type": "code",
      "source": [
        "def feature(datum,i):\n",
        "  feat = [1]\n",
        "  for j in range(1,i+1):\n",
        "    feat.append((datum['review_text'].count('!'))**j)\n",
        "  return feat"
      ],
      "metadata": {
        "id": "8_j1zgq8E8iD"
      },
      "execution_count": null,
      "outputs": []
    },
    {
      "cell_type": "code",
      "source": [
        "for i in range(1,6):\n",
        "  X = [feature(d,i) for d in dataset]\n",
        "  # print(X[:10])\n",
        "  theta,residuals,rank,s = numpy.linalg.lstsq(X, y)\n",
        "  y_pred = np.dot(X, theta)\n",
        "  MSE = ((y - y_pred)**2).mean()\n",
        "  print(\"MSE\",i,MSE)"
      ],
      "metadata": {
        "colab": {
          "base_uri": "https://localhost:8080/"
        },
        "id": "H3EpBB8oF9MQ",
        "outputId": "c8026e49-bc7a-467f-f454-532ea3b5113b"
      },
      "execution_count": null,
      "outputs": [
        {
          "output_type": "stream",
          "name": "stderr",
          "text": [
            "/usr/local/lib/python3.7/dist-packages/ipykernel_launcher.py:4: FutureWarning: `rcond` parameter will change to the default of machine precision times ``max(M, N)`` where M and N are the input matrix dimensions.\n",
            "To use the future default and silence this warning we advise to pass `rcond=None`, to keep using the old, explicitly pass `rcond=-1`.\n",
            "  after removing the cwd from sys.path.\n"
          ]
        },
        {
          "output_type": "stream",
          "name": "stdout",
          "text": [
            "MSE 1 1.5231747404538287\n",
            "MSE 2 1.5046686106250915\n",
            "MSE 3 1.496684551517923\n",
            "MSE 4 1.490447730223069\n",
            "MSE 5 1.4896106953961648\n"
          ]
        }
      ]
    },
    {
      "cell_type": "code",
      "source": [
        "X[:10]"
      ],
      "metadata": {
        "colab": {
          "base_uri": "https://localhost:8080/"
        },
        "id": "sbe9M7q8GCe8",
        "outputId": "0aaf1c8e-be63-4d64-c52d-fc7d15d7f546"
      },
      "execution_count": null,
      "outputs": [
        {
          "output_type": "execute_result",
          "data": {
            "text/plain": [
              "[[1, 0, 0, 0, 0, 0],\n",
              " [1, 1, 1, 1, 1, 1],\n",
              " [1, 0, 0, 0, 0, 0],\n",
              " [1, 0, 0, 0, 0, 0],\n",
              " [1, 0, 0, 0, 0, 0],\n",
              " [1, 0, 0, 0, 0, 0],\n",
              " [1, 4, 16, 64, 256, 1024],\n",
              " [1, 2, 4, 8, 16, 32],\n",
              " [1, 1, 1, 1, 1, 1],\n",
              " [1, 0, 0, 0, 0, 0]]"
            ]
          },
          "metadata": {},
          "execution_count": 55
        }
      ]
    },
    {
      "cell_type": "code",
      "source": [
        "type(dataset)"
      ],
      "metadata": {
        "colab": {
          "base_uri": "https://localhost:8080/"
        },
        "id": "KWS_PXccHjVb",
        "outputId": "b5a28fe5-723f-4250-c6a3-a7bbe71cb009"
      },
      "execution_count": null,
      "outputs": [
        {
          "output_type": "execute_result",
          "data": {
            "text/plain": [
              "list"
            ]
          },
          "metadata": {},
          "execution_count": 56
        }
      ]
    },
    {
      "cell_type": "markdown",
      "source": [
        "##Q4"
      ],
      "metadata": {
        "id": "njgoMT3uHxLC"
      }
    },
    {
      "cell_type": "code",
      "source": [
        "d_train = dataset[:len(dataset)//2]\n",
        "d_test = dataset[(len(dataset)//2)+1:]\n",
        "y_train = y[:len(y)//2]\n",
        "y_test = y[(len(y)//2)+1:]"
      ],
      "metadata": {
        "id": "3UKFmbZ-HwAI"
      },
      "execution_count": null,
      "outputs": []
    },
    {
      "cell_type": "code",
      "source": [
        "for i in range(1,6):\n",
        "  X_train = [feature(d,i) for d in d_train]\n",
        "  X_test = [feature(d,i) for d in d_test]\n",
        "  # print(X[:10])\n",
        "  theta,residuals,rank,s = numpy.linalg.lstsq(X_train, y_train)\n",
        "  y_pred = np.dot(X_test, theta)\n",
        "  MSE = ((y_test - y_pred)**2).mean()\n",
        "  print(\"MSE\",i,MSE)"
      ],
      "metadata": {
        "colab": {
          "base_uri": "https://localhost:8080/"
        },
        "id": "LsBgbwCCIUsC",
        "outputId": "c7aef98a-c789-449d-f880-ced4f1e0e7ce"
      },
      "execution_count": null,
      "outputs": [
        {
          "output_type": "stream",
          "name": "stderr",
          "text": [
            "/usr/local/lib/python3.7/dist-packages/ipykernel_launcher.py:5: FutureWarning: `rcond` parameter will change to the default of machine precision times ``max(M, N)`` where M and N are the input matrix dimensions.\n",
            "To use the future default and silence this warning we advise to pass `rcond=None`, to keep using the old, explicitly pass `rcond=-1`.\n",
            "  \"\"\"\n"
          ]
        },
        {
          "output_type": "stream",
          "name": "stdout",
          "text": [
            "MSE 1 1.5246142562231482\n",
            "MSE 2 1.4974739784895592\n",
            "MSE 3 1.485426396997915\n",
            "MSE 4 1.4765005973122816\n",
            "MSE 5 1.4807263291580128\n"
          ]
        }
      ]
    },
    {
      "cell_type": "markdown",
      "source": [
        "## Q5"
      ],
      "metadata": {
        "id": "1V6BxO2CIqYu"
      }
    },
    {
      "cell_type": "code",
      "source": [
        "import scipy.optimize"
      ],
      "metadata": {
        "id": "aj0PJfyiIlJP"
      },
      "execution_count": null,
      "outputs": []
    },
    {
      "cell_type": "code",
      "source": [
        "def MAE(theta0):\n",
        "  # we will optimize the MAE function based on theta0 which with no other features is the final yPred.\n",
        "  sumi = 0\n",
        "  for i in range(len(y_test)):\n",
        "    sumi += abs(theta0-y_test[i])\n",
        "  sumi = sumi/len(y_test)\n",
        "  return sumi\n"
      ],
      "metadata": {
        "id": "oxWf3aDHOuq1"
      },
      "execution_count": null,
      "outputs": []
    },
    {
      "cell_type": "code",
      "source": [
        "guess = [0]\n",
        "ans = scipy.optimize.minimize(MAE,guess)\n",
        "print(ans)"
      ],
      "metadata": {
        "colab": {
          "base_uri": "https://localhost:8080/"
        },
        "id": "-xUScz9ePB64",
        "outputId": "46c5fbac-39a3-4363-a906-15f7b0095211"
      },
      "execution_count": null,
      "outputs": [
        {
          "output_type": "stream",
          "name": "stdout",
          "text": [
            "      fun: 0.9067813572205767\n",
            " hess_inv: array([[1.09301531]])\n",
            "      jac: array([0.20584331])\n",
            "  message: 'Desired error not necessarily achieved due to precision loss.'\n",
            "     nfev: 138\n",
            "      nit: 3\n",
            "     njev: 63\n",
            "   status: 2\n",
            "  success: False\n",
            "        x: array([4.])\n"
          ]
        }
      ]
    },
    {
      "cell_type": "code",
      "source": [
        "theta0 = 4.0\n",
        "ans = MAE(theta0)"
      ],
      "metadata": {
        "id": "hE1053dtRjXG"
      },
      "execution_count": null,
      "outputs": []
    },
    {
      "cell_type": "code",
      "source": [
        "print(ans)"
      ],
      "metadata": {
        "colab": {
          "base_uri": "https://localhost:8080/"
        },
        "id": "loisW1JOSVS3",
        "outputId": "aa3322bb-cbe4-487a-f41d-d3ba5b5e144a"
      },
      "execution_count": null,
      "outputs": [
        {
          "output_type": "stream",
          "name": "stdout",
          "text": [
            "[0.90678136]\n"
          ]
        }
      ]
    },
    {
      "cell_type": "markdown",
      "source": [
        "# Classification"
      ],
      "metadata": {
        "id": "H8IkfRxkTJv4"
      }
    },
    {
      "cell_type": "markdown",
      "source": [
        "## Q6"
      ],
      "metadata": {
        "id": "ASCH2sbsTMVP"
      }
    },
    {
      "cell_type": "code",
      "source": [
        "from urllib.request import urlopen\n",
        "def parseDataFromURL(fname):\n",
        "  for l in urlopen(fname):\n",
        "    yield eval(l)"
      ],
      "metadata": {
        "id": "uHttJrLGSWIg"
      },
      "execution_count": null,
      "outputs": []
    },
    {
      "cell_type": "code",
      "source": [
        "data = list(parseDataFromURL(\"http://cseweb.ucsd.edu/classes/fa19/cse258-a/data/beer_50000.json\"))"
      ],
      "metadata": {
        "id": "6pT_0q6TUgRm"
      },
      "execution_count": null,
      "outputs": []
    },
    {
      "cell_type": "code",
      "source": [
        "data[1000]"
      ],
      "metadata": {
        "colab": {
          "base_uri": "https://localhost:8080/"
        },
        "id": "9eSBXaTDU1Jl",
        "outputId": "1cb89f23-adde-4ce9-819f-08648a393228"
      },
      "execution_count": null,
      "outputs": [
        {
          "output_type": "execute_result",
          "data": {
            "text/plain": [
              "{'review/appearance': 2.0,\n",
              " 'beer/style': 'Light Lager',\n",
              " 'review/palate': 2.0,\n",
              " 'review/taste': 2.0,\n",
              " 'beer/name': 'Amstel Light',\n",
              " 'review/timeUnix': 1236554249,\n",
              " 'user/gender': 'Male',\n",
              " 'beer/ABV': 3.5,\n",
              " 'beer/beerId': '436',\n",
              " 'beer/brewerId': '163',\n",
              " 'review/timeStruct': {'isdst': 0,\n",
              "  'mday': 8,\n",
              "  'hour': 23,\n",
              "  'min': 17,\n",
              "  'sec': 29,\n",
              "  'mon': 3,\n",
              "  'year': 2009,\n",
              "  'yday': 67,\n",
              "  'wday': 6},\n",
              " 'review/overall': 1.5,\n",
              " 'review/text': 'The color of chardonnay with about as much head as a glass of wine.\\t\\tAroma is initially a bitter skunky funk, some grassy straw notes, but if you concentrate you can pick out some bready honey malt lying way beneath.\\t\\tFlavor is similar to the nose, initially skunky, but some notes of corn and honey malt emerge as it rolls through the mouth.\\t\\tMouthfeel is slick and watery, but finishes tingly, very crisp. Very low drinkability. I know a lot of people like this as a low calorie lighter import, but there really is not much flavor, and what flavor is there is funky and skunky.',\n",
              " 'user/profileName': 'far333',\n",
              " 'review/aroma': 2.0}"
            ]
          },
          "metadata": {},
          "execution_count": 5
        }
      ]
    },
    {
      "cell_type": "code",
      "source": [
        "dataset = [d for d in data if 'user/gender' in d]"
      ],
      "metadata": {
        "id": "bPjs_tizVZh5"
      },
      "execution_count": null,
      "outputs": []
    },
    {
      "cell_type": "code",
      "source": [
        "dataset[0]"
      ],
      "metadata": {
        "colab": {
          "base_uri": "https://localhost:8080/"
        },
        "id": "kFjbcaf_WsW6",
        "outputId": "dee58ac6-9f3b-4faf-86c6-d013ef590325"
      },
      "execution_count": null,
      "outputs": [
        {
          "output_type": "execute_result",
          "data": {
            "text/plain": [
              "{'review/appearance': 4.0,\n",
              " 'beer/style': 'American Double / Imperial IPA',\n",
              " 'review/palate': 4.0,\n",
              " 'review/taste': 4.5,\n",
              " 'beer/name': 'Cauldron DIPA',\n",
              " 'review/timeUnix': 1293735206,\n",
              " 'user/gender': 'Male',\n",
              " 'user/birthdayRaw': 'Jun 16, 1901',\n",
              " 'beer/ABV': 7.7,\n",
              " 'beer/beerId': '64883',\n",
              " 'user/birthdayUnix': -2163081600,\n",
              " 'beer/brewerId': '1075',\n",
              " 'review/timeStruct': {'isdst': 0,\n",
              "  'mday': 30,\n",
              "  'hour': 18,\n",
              "  'min': 53,\n",
              "  'sec': 26,\n",
              "  'mon': 12,\n",
              "  'year': 2010,\n",
              "  'yday': 364,\n",
              "  'wday': 3},\n",
              " 'user/ageInSeconds': 3581417047,\n",
              " 'review/overall': 4.0,\n",
              " 'review/text': \"According to the website, the style for the Caldera Cauldron changes every year. The current release is a DIPA, which frankly is the only cauldron I'm familiar with (it was an IPA/DIPA the last time I ordered a cauldron at the horsebrass several years back). In any event... at the Horse Brass yesterday.\\t\\tThe beer pours an orange copper color with good head retention and lacing. The nose is all hoppy IPA goodness, showcasing a huge aroma of dry citrus, pine and sandlewood. The flavor profile replicates the nose pretty closely in this West Coast all the way DIPA. This DIPA is not for the faint of heart and is a bit much even for a hophead like myslf. The finish is quite dry and hoppy, and there's barely enough sweet malt to balance and hold up the avalanche of hoppy bitterness in this beer. Mouthfeel is actually fairly light, with a long, persistentely bitter finish. Drinkability is good, with the alcohol barely noticeable in this well crafted beer. Still, this beer is so hugely hoppy/bitter, it's really hard for me to imagine ordering more than a single glass. Regardless, this is a very impressive beer from the folks at Caldera.\",\n",
              " 'user/profileName': 'johnmichaelsen',\n",
              " 'review/aroma': 4.5}"
            ]
          },
          "metadata": {},
          "execution_count": 7
        }
      ]
    },
    {
      "cell_type": "code",
      "source": [
        "len(dataset)"
      ],
      "metadata": {
        "colab": {
          "base_uri": "https://localhost:8080/"
        },
        "id": "4dRGjgNWW4Ps",
        "outputId": "ef7f2110-3cf1-45bc-9721-74a049d49718"
      },
      "execution_count": null,
      "outputs": [
        {
          "output_type": "execute_result",
          "data": {
            "text/plain": [
              "20403"
            ]
          },
          "metadata": {},
          "execution_count": 8
        }
      ]
    },
    {
      "cell_type": "code",
      "source": [
        "# checing of only male and female exist\n",
        "c = 0\n",
        "for i in range(len(dataset)):\n",
        "  if(dataset[i]['user/gender'] == 'Male') or (dataset[i]['user/gender'] == 'Female'):\n",
        "    c+=1\n",
        "print(c)"
      ],
      "metadata": {
        "colab": {
          "base_uri": "https://localhost:8080/"
        },
        "id": "X7NEBYyjXRAA",
        "outputId": "be29eb63-40cf-435f-db11-30040a752002"
      },
      "execution_count": null,
      "outputs": [
        {
          "output_type": "stream",
          "name": "stdout",
          "text": [
            "20403\n"
          ]
        }
      ]
    },
    {
      "cell_type": "markdown",
      "source": [
        "### Hot encode"
      ],
      "metadata": {
        "id": "zlM_dhr_d4-1"
      }
    },
    {
      "cell_type": "code",
      "source": [
        "for i in range(len(dataset)):\n",
        "  if(dataset[i]['user/gender'] == 'Male'):\n",
        "    dataset[i]['user/gender'] = 0\n",
        "  else:\n",
        "    dataset[i]['user/gender'] = 1"
      ],
      "metadata": {
        "id": "MSIrevOZYOrl"
      },
      "execution_count": null,
      "outputs": []
    },
    {
      "cell_type": "code",
      "source": [
        "dataset[21]\n"
      ],
      "metadata": {
        "colab": {
          "base_uri": "https://localhost:8080/"
        },
        "id": "sA4dr4OgYgGE",
        "outputId": "732a5fd5-179f-4229-8ccc-6e4c075b0269"
      },
      "execution_count": null,
      "outputs": [
        {
          "output_type": "execute_result",
          "data": {
            "text/plain": [
              "{'review/appearance': 4.0,\n",
              " 'beer/style': 'American Pale Ale (APA)',\n",
              " 'review/palate': 3.5,\n",
              " 'review/taste': 4.0,\n",
              " 'beer/name': 'Caldera Pale Ale',\n",
              " 'review/timeUnix': 1249847121,\n",
              " 'user/gender': 1,\n",
              " 'user/birthdayRaw': 'Sep 2, 1975',\n",
              " 'beer/ABV': 5.5,\n",
              " 'beer/beerId': '25414',\n",
              " 'user/birthdayUnix': 178873200,\n",
              " 'beer/brewerId': '1075',\n",
              " 'review/timeStruct': {'isdst': 0,\n",
              "  'mday': 9,\n",
              "  'hour': 19,\n",
              "  'min': 45,\n",
              "  'sec': 21,\n",
              "  'mon': 8,\n",
              "  'year': 2009,\n",
              "  'yday': 221,\n",
              "  'wday': 6},\n",
              " 'user/ageInSeconds': 1239462247,\n",
              " 'review/overall': 4.5,\n",
              " 'review/text': \"Received this can through Beer Powerball. I am really sorry that I don't know who sent it, my brother is keeping those records, but THANK YOU!!\\t\\tPours with a nice half centimeter white fluffy head on a glass of dark straw-colored beer. Smells of citrusy hoppy goodness and oddly, a little like soap. Mouthfeel is very pleasant as is taste. \\t\\tThis is a nice drinking beer. It's not blow you away with over-the-top flavor. It's a well-balanced, highly drinkable and enjoyable brew. I'm glad to have gotten the chance to try it.\",\n",
              " 'user/profileName': 'babyhobbes',\n",
              " 'review/aroma': 3.5}"
            ]
          },
          "metadata": {},
          "execution_count": 11
        }
      ]
    },
    {
      "cell_type": "markdown",
      "source": [
        "### Classification"
      ],
      "metadata": {
        "id": "_4fNY65fjJDH"
      }
    },
    {
      "cell_type": "code",
      "source": [
        "from sklearn.linear_model import LogisticRegression"
      ],
      "metadata": {
        "id": "9EUcBdulYjNO"
      },
      "execution_count": null,
      "outputs": []
    },
    {
      "cell_type": "code",
      "source": [
        "def feature(datum):\n",
        "  feat = [1]\n",
        "  feat.append(datum['review/text'].count('!'))\n",
        "  return feat"
      ],
      "metadata": {
        "id": "zihFgLxMaBam"
      },
      "execution_count": null,
      "outputs": []
    },
    {
      "cell_type": "code",
      "source": [
        "X = [feature(d) for d in dataset]"
      ],
      "metadata": {
        "id": "xhZFsRMka5dP"
      },
      "execution_count": null,
      "outputs": []
    },
    {
      "cell_type": "code",
      "source": [
        "X[:10]"
      ],
      "metadata": {
        "colab": {
          "base_uri": "https://localhost:8080/"
        },
        "id": "vS5QAExNbrZQ",
        "outputId": "8d33759a-6f79-4244-c2fb-e8bad4419c6c"
      },
      "execution_count": null,
      "outputs": [
        {
          "output_type": "execute_result",
          "data": {
            "text/plain": [
              "[[1, 0],\n",
              " [1, 0],\n",
              " [1, 0],\n",
              " [1, 0],\n",
              " [1, 0],\n",
              " [1, 0],\n",
              " [1, 0],\n",
              " [1, 1],\n",
              " [1, 1],\n",
              " [1, 0]]"
            ]
          },
          "metadata": {},
          "execution_count": 42
        }
      ]
    },
    {
      "cell_type": "code",
      "source": [
        "def labell(datum):\n",
        "  feat = []\n",
        "  feat.append(datum['user/gender'])\n",
        "  return feat"
      ],
      "metadata": {
        "id": "rnsaolL-bsXe"
      },
      "execution_count": null,
      "outputs": []
    },
    {
      "cell_type": "code",
      "source": [
        "y = [labell(d)[0] for d in dataset]"
      ],
      "metadata": {
        "id": "5f4vuhHVcLJk"
      },
      "execution_count": null,
      "outputs": []
    },
    {
      "cell_type": "code",
      "source": [
        "y[:10]"
      ],
      "metadata": {
        "colab": {
          "base_uri": "https://localhost:8080/"
        },
        "id": "YDcEbGrucPZU",
        "outputId": "6cd37653-ac0f-49e8-b8bb-7c7c0c259311"
      },
      "execution_count": null,
      "outputs": [
        {
          "output_type": "execute_result",
          "data": {
            "text/plain": [
              "[0, 0, 0, 0, 0, 0, 0, 0, 0, 0]"
            ]
          },
          "metadata": {},
          "execution_count": 45
        }
      ]
    },
    {
      "cell_type": "code",
      "source": [
        "classModel = LogisticRegression().fit(X,y)"
      ],
      "metadata": {
        "id": "TJXIB3OGcQi9"
      },
      "execution_count": null,
      "outputs": []
    },
    {
      "cell_type": "code",
      "source": [
        "y_pred = classModel.predict(X)"
      ],
      "metadata": {
        "id": "S7rfiIKbcn4T"
      },
      "execution_count": null,
      "outputs": []
    },
    {
      "cell_type": "code",
      "source": [
        "y_pred[:10]"
      ],
      "metadata": {
        "colab": {
          "base_uri": "https://localhost:8080/"
        },
        "id": "MycWtX_QctDU",
        "outputId": "987cbe30-49b2-418f-9091-4d4ae1a02632"
      },
      "execution_count": null,
      "outputs": [
        {
          "output_type": "execute_result",
          "data": {
            "text/plain": [
              "array([0, 0, 0, 0, 0, 0, 0, 0, 0, 0])"
            ]
          },
          "metadata": {},
          "execution_count": 48
        }
      ]
    },
    {
      "cell_type": "code",
      "source": [
        "Tp,Tn,Fp,Fn = 0,0,0,0\n",
        "for i in range(len(y)):\n",
        "  if y[i] == y_pred[i] == 1: # female\n",
        "    Tp+=1\n",
        "  elif y[i] == 1 and y_pred[i] == 0:\n",
        "    Fn+=1\n",
        "  elif y[i] == y_pred[i] == 0: # male\n",
        "    Tn+=1\n",
        "  else:\n",
        "    Fp+=1\n",
        "\n",
        "print(Tp,Tn,Fp,Fn)\n",
        "  \n",
        "  "
      ],
      "metadata": {
        "colab": {
          "base_uri": "https://localhost:8080/"
        },
        "id": "0tQqn5xTcvGc",
        "outputId": "a1a11eb0-256b-4e82-b394-9bb7eba0f681"
      },
      "execution_count": null,
      "outputs": [
        {
          "output_type": "stream",
          "name": "stdout",
          "text": [
            "0 20095 0 308\n"
          ]
        }
      ]
    },
    {
      "cell_type": "code",
      "source": [
        "from sklearn.metrics import balanced_accuracy_score"
      ],
      "metadata": {
        "id": "uR3bTbtnfvB9"
      },
      "execution_count": null,
      "outputs": []
    },
    {
      "cell_type": "code",
      "source": [
        "balanced_accuracy_score(y,y_pred)"
      ],
      "metadata": {
        "colab": {
          "base_uri": "https://localhost:8080/"
        },
        "id": "b4iG4BmgjABP",
        "outputId": "9e0e9f63-1843-4f70-f258-69e74211c8c0"
      },
      "execution_count": null,
      "outputs": [
        {
          "output_type": "execute_result",
          "data": {
            "text/plain": [
              "0.5"
            ]
          },
          "metadata": {},
          "execution_count": 51
        }
      ]
    },
    {
      "cell_type": "code",
      "source": [
        "BER = 1 - 0.5 * (Tp / (Tp + Fn) + Tn / (Tn + Fp))\n",
        "print(BER)"
      ],
      "metadata": {
        "colab": {
          "base_uri": "https://localhost:8080/"
        },
        "id": "Gd1UGAQokaCf",
        "outputId": "61c62d58-8adb-4275-c220-98e402d86395"
      },
      "execution_count": null,
      "outputs": [
        {
          "output_type": "stream",
          "name": "stdout",
          "text": [
            "0.5\n"
          ]
        }
      ]
    },
    {
      "cell_type": "markdown",
      "source": [
        "## Q7"
      ],
      "metadata": {
        "id": "KfHBLJrSjMHF"
      }
    },
    {
      "cell_type": "code",
      "source": [
        "classModel = LogisticRegression(class_weight=\"balanced\").fit(X,y)"
      ],
      "metadata": {
        "id": "guF7RkhRjE9I"
      },
      "execution_count": null,
      "outputs": []
    },
    {
      "cell_type": "code",
      "source": [
        "y_pred = classModel.predict(X)"
      ],
      "metadata": {
        "id": "GfYIvKMnkAm0"
      },
      "execution_count": null,
      "outputs": []
    },
    {
      "cell_type": "code",
      "source": [
        "Tp,Tn,Fp,Fn = 0,0,0,0\n",
        "for i in range(len(y)):\n",
        "  if y[i] == y_pred[i] == 1: # female\n",
        "    Tp+=1\n",
        "  elif y[i] == 1 and y_pred[i] == 0:\n",
        "    Fn+=1\n",
        "  elif y[i] == y_pred[i] == 0: # male\n",
        "    Tn+=1\n",
        "  else:\n",
        "    Fp+=1\n",
        "\n",
        "print(Tp,Tn,Fp,Fn)\n",
        "  \n",
        "  "
      ],
      "metadata": {
        "colab": {
          "base_uri": "https://localhost:8080/"
        },
        "id": "aW27P8bhkCxf",
        "outputId": "ffcfa7ca-6a66-4a4e-9ef3-796f3ef7446c"
      },
      "execution_count": null,
      "outputs": [
        {
          "output_type": "stream",
          "name": "stdout",
          "text": [
            "88 16332 3763 220\n"
          ]
        }
      ]
    },
    {
      "cell_type": "code",
      "source": [
        "balanced_accuracy_score(y,y_pred)\n",
        "# uploading old value cause this agains balances it, waste"
      ],
      "metadata": {
        "colab": {
          "base_uri": "https://localhost:8080/"
        },
        "id": "paMTVtrxkEwf",
        "outputId": "d4797cf0-2027-425e-d8ff-e2eadb8bafb3"
      },
      "execution_count": null,
      "outputs": [
        {
          "output_type": "execute_result",
          "data": {
            "text/plain": [
              "0.5492268865744855"
            ]
          },
          "metadata": {},
          "execution_count": 56
        }
      ]
    },
    {
      "cell_type": "code",
      "source": [
        "BER = 1 - 0.5 * (Tp / (Tp + Fn) + Tn / (Tn + Fp))\n",
        "print(BER)"
      ],
      "metadata": {
        "id": "j02L2g1Fk4xN",
        "outputId": "ee04a50a-a41a-4fd1-8b72-32e56ecea4e3",
        "colab": {
          "base_uri": "https://localhost:8080/"
        }
      },
      "execution_count": null,
      "outputs": [
        {
          "output_type": "stream",
          "name": "stdout",
          "text": [
            "0.4507731134255145\n"
          ]
        }
      ]
    },
    {
      "cell_type": "markdown",
      "source": [
        "## Q8"
      ],
      "metadata": {
        "id": "jhHkuyBqmcSL"
      }
    },
    {
      "cell_type": "code",
      "source": [
        "tmp = y_pred"
      ],
      "metadata": {
        "id": "zjp5GlA8sdFF"
      },
      "execution_count": null,
      "outputs": []
    },
    {
      "cell_type": "code",
      "source": [
        "k = [1, 10, 100, 1000, 10000]\n",
        "sumi = 0\n",
        "for i in k:\n",
        "  sumi = 0\n",
        "  for j in range(i):\n",
        "    if y[j] == y_pred[j] == 1: # female\n",
        "      sumi+=y_pred[j]\n",
        "    elif y[j] == y_pred[j] == 0: # male\n",
        "      sumi+=y_pred[j]\n",
        "  sumi/=i\n",
        "  print(\"precision@\",i,sumi)"
      ],
      "metadata": {
        "colab": {
          "base_uri": "https://localhost:8080/"
        },
        "id": "Iy-gcpe2kIlI",
        "outputId": "8e531cc8-be77-40b1-f0d4-86d90e026b52"
      },
      "execution_count": null,
      "outputs": [
        {
          "output_type": "stream",
          "name": "stdout",
          "text": [
            "precision@ 1 0.0\n",
            "precision@ 10 0.0\n",
            "precision@ 100 0.01\n",
            "precision@ 1000 0.003\n",
            "precision@ 10000 0.004\n"
          ]
        }
      ]
    },
    {
      "cell_type": "markdown",
      "source": [
        "### Precision@K using weights(confidence)"
      ],
      "metadata": {
        "id": "ncmyjJEHjPo_"
      }
    },
    {
      "cell_type": "code",
      "source": [
        "scores = classModel.decision_function(X)\n",
        "scores = list(zip(scores, y))\n",
        "scores.sort(reverse=True)\n",
        "sortedScore = [i[1] for i in scores]\n",
        "precisionlist = []\n",
        "for i in k:\n",
        "  print(\"precision@\",i,sum(sortedScore[:i])/i)\n",
        "\n",
        "# print(precisionlist)"
      ],
      "metadata": {
        "id": "liTt3EKwoQyf",
        "colab": {
          "base_uri": "https://localhost:8080/"
        },
        "outputId": "fe6083fe-a516-4fc5-fdad-5fea26a96d8e"
      },
      "execution_count": null,
      "outputs": [
        {
          "output_type": "stream",
          "name": "stdout",
          "text": [
            "precision@ 1 0.0\n",
            "precision@ 10 0.0\n",
            "precision@ 100 0.03\n",
            "precision@ 1000 0.033\n",
            "precision@ 10000 0.0308\n"
          ]
        }
      ]
    },
    {
      "cell_type": "code",
      "source": [],
      "metadata": {
        "id": "SX2nUXgWkEU-"
      },
      "execution_count": null,
      "outputs": []
    }
  ]
}